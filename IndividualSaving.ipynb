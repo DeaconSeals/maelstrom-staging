{
 "cells": [
  {
   "cell_type": "code",
   "execution_count": null,
   "id": "4c725756",
   "metadata": {},
   "outputs": [],
   "source": [
    "from population import GeneticProgrammingPopulation\n",
    "from primitives import *\n",
    "from competition import *\n",
    "from snake_eyes.snakeeyes import readConfig\n",
    "from individual import *\n",
    "from genotype import *\n",
    "import json\n",
    "\n",
    "%load_ext autoreload\n",
    "%autoreload 2"
   ]
  },
  {
   "cell_type": "code",
   "execution_count": null,
   "id": "7c5c8d9f",
   "metadata": {},
   "outputs": [],
   "source": [
    "config = readConfig('./configs/traditionalTest.cfg', globals(), locals())\n",
    "predatorPop = GeneticProgrammingPopulation(**config['predators'])\n",
    "predatorPop.rampedHalfAndHalf()\n",
    "\n",
    "dictionaries = [ind.genotype.toDict() for ind in predatorPop.population]"
   ]
  },
  {
   "cell_type": "code",
   "execution_count": null,
   "id": "68a892d7",
   "metadata": {},
   "outputs": [],
   "source": [
    "strings = [json.dumps(dictionary) for dictionary in dictionaries]\n",
    "imports = [json.loads(string) for string in strings]\n",
    "newPop = [GeneticProgrammingIndividual(GeneticTree.fromDict(dictionary)) for dictionary in imports]\n",
    "oldPop = predatorPop.population[:]"
   ]
  },
  {
   "cell_type": "code",
   "execution_count": null,
   "id": "b654fb14",
   "metadata": {},
   "outputs": [],
   "source": [
    "print(len(newPop), len(oldPop))\n",
    "for i in range(len(newPop)):\n",
    "    if newPop[i].genotype.printTree() != oldPop[i].genotype.printTree():\n",
    "        print(newPop[i].genotype.printTree())\n",
    "        print(oldPop[i].genotype.printTree())"
   ]
  },
  {
   "cell_type": "code",
   "execution_count": null,
   "id": "400f7bd2",
   "metadata": {},
   "outputs": [],
   "source": [
    "for predator in predatorPop.population:\n",
    "    predator.fitness, _, _, _, _ = evaluate(predator=predator.genotype)\n",
    "print([ind.fitness for ind in predatorPop.population])\n",
    "\n",
    "predatorPop.population = newPop[:]\n",
    "\n",
    "for predator in predatorPop.population:\n",
    "    predator.fitness, _, _, _, _ = evaluate(predator=predator.genotype)\n",
    "print([ind.fitness for ind in predatorPop.population])"
   ]
  },
  {
   "cell_type": "code",
   "execution_count": null,
   "id": "661f51a3",
   "metadata": {},
   "outputs": [],
   "source": []
  }
 ],
 "metadata": {
  "kernelspec": {
   "display_name": "Python 3 (ipykernel)",
   "language": "python",
   "name": "python3"
  },
  "language_info": {
   "codemirror_mode": {
    "name": "ipython",
    "version": 3
   },
   "file_extension": ".py",
   "mimetype": "text/x-python",
   "name": "python",
   "nbconvert_exporter": "python",
   "pygments_lexer": "ipython3",
   "version": "3.8.10"
  }
 },
 "nbformat": 4,
 "nbformat_minor": 5
}
