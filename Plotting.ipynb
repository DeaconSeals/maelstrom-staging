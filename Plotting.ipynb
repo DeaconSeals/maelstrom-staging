{
 "cells": [
  {
   "cell_type": "code",
   "execution_count": null,
   "id": "0a515a5e",
   "metadata": {},
   "outputs": [],
   "source": [
    "import matplotlib.pyplot as plt\n",
    "import json\n",
    "import gzip\n",
    "\n",
    "# This is a bit of magic to make matplotlib figures appear inline in the notebook\n",
    "# rather than in a new window.\n",
    "%matplotlib inline\n",
    "plt.rcParams['figure.figsize'] = (10.0, 10.0) # set default size of plots\n",
    "plt.rcParams['image.interpolation'] = 'nearest'\n",
    "plt.rcParams['image.cmap'] = 'gray'\n",
    "\n",
    "# Some more magic so that the notebook will reload external python modules;\n",
    "# see http://stackoverflow.com/questions/1907993/autoreload-of-modules-in-ipython\n",
    "%load_ext autoreload\n",
    "%autoreload 2"
   ]
  },
  {
   "cell_type": "code",
   "execution_count": null,
   "id": "f7d28b6b",
   "metadata": {},
   "outputs": [],
   "source": [
    "def plotMaelstrom(logs, title):\n",
    "#     keys = list(maelstrom.islands.keys())\n",
    "    islands = len(logs)\n",
    "    island = 1\n",
    "    try:\n",
    "        for key, log in logs.items():\n",
    "            plt.subplot(islands, 1, island)\n",
    "            if island == 1:\n",
    "                plt.title(title)\n",
    "            island += 1\n",
    "    #         key = keys[island]\n",
    "            evals = log['evals']\n",
    "            bestPred = log['bestPred']\n",
    "            avgPred = log['avgPred']\n",
    "            bestPrey = log['bestPrey']\n",
    "            avgPrey = log['avgPrey']\n",
    "            plt.plot(evals, bestPred, color = \"red\", label = \"Predator best\")\n",
    "            plt.plot(evals, avgPred, color = \"brown\", label = \"Predator average\")\n",
    "            plt.plot(evals, bestPrey, color = \"blue\", label = \"Prey best\")\n",
    "            plt.plot(evals, avgPrey, color = \"cyan\", label = \"Prey average\")\n",
    "            plt.ylabel(key)\n",
    "            plt.xlabel(\"evaluations\")\n",
    "            plt.legend()\n",
    "            plt.ylim(bottom=0, top=201)\n",
    "            plt.xlim(left=0, right = evals[-1])\n",
    "    except:\n",
    "#         plt.subplot(islands, 1, island)\n",
    "        if island == 1:\n",
    "            plt.title(title)\n",
    "#         key = keys[island]\n",
    "        evals = logs['evals']\n",
    "        bestPred = logs['bestPred']\n",
    "        avgPred = logs['avgPred']\n",
    "        bestPrey = logs['bestPrey']\n",
    "        avgPrey = logs['avgPrey']\n",
    "        plt.plot(evals, bestPred, color = \"red\", label = \"Predator best\")\n",
    "        plt.plot(evals, avgPred, color = \"brown\", label = \"Predator average\")\n",
    "        plt.plot(evals, bestPrey, color = \"blue\", label = \"Prey best\")\n",
    "        plt.plot(evals, avgPrey, color = \"cyan\", label = \"Prey average\")\n",
    "        plt.ylabel(key)\n",
    "        plt.xlabel(\"evaluations\")\n",
    "        plt.legend()\n",
    "        plt.ylim(bottom=0, top=201)\n",
    "        plt.xlim(left=0, right = evals[-1])\n",
    "\n",
    "    plt.show()\n",
    "# plotMaelstrom(logs)"
   ]
  },
  {
   "cell_type": "code",
   "execution_count": null,
   "id": "137acf80",
   "metadata": {},
   "outputs": [],
   "source": [
    "with gzip.open('./logs/science-is-hard/experiment1/maelstrom_ss_best_05/2022-11-10-09-21/evolutionLog.json.gz') as file:\n",
    "    logs = json.load(file)"
   ]
  },
  {
   "cell_type": "code",
   "execution_count": null,
   "id": "19b52f2b",
   "metadata": {
    "scrolled": false
   },
   "outputs": [],
   "source": [
    "print(logs[0].keys())\n",
    "for run, log in enumerate(logs):\n",
    "    plotMaelstrom(log, f'run {run}')"
   ]
  },
  {
   "cell_type": "code",
   "execution_count": null,
   "id": "4cdc09f2",
   "metadata": {},
   "outputs": [],
   "source": []
  }
 ],
 "metadata": {
  "kernelspec": {
   "display_name": "Python 3 (ipykernel)",
   "language": "python",
   "name": "python3"
  },
  "language_info": {
   "codemirror_mode": {
    "name": "ipython",
    "version": 3
   },
   "file_extension": ".py",
   "mimetype": "text/x-python",
   "name": "python",
   "nbconvert_exporter": "python",
   "pygments_lexer": "ipython3",
   "version": "3.8.12"
  }
 },
 "nbformat": 4,
 "nbformat_minor": 5
}
