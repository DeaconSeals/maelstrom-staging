{
 "cells": [
  {
   "cell_type": "code",
   "execution_count": null,
   "metadata": {},
   "outputs": [],
   "source": [
    "from maelstrom import Maelstrom\n",
    "from primitives import *\n",
    "from competition import *\n",
    "from snake_eyes.snakeeyes import readConfig\n",
    "\n",
    "import matplotlib.pyplot as plt\n",
    "\n",
    "# This is a bit of magic to make matplotlib figures appear inline in the notebook\n",
    "# rather than in a new window.\n",
    "%matplotlib inline\n",
    "plt.rcParams['figure.figsize'] = (10.0, 10.0) # set default size of plots\n",
    "plt.rcParams['image.interpolation'] = 'nearest'\n",
    "plt.rcParams['image.cmap'] = 'gray'\n",
    "\n",
    "# Some more magic so that the notebook will reload external python modules;\n",
    "# see http://stackoverflow.com/questions/1907993/autoreload-of-modules-in-ipython\n",
    "%load_ext autoreload\n",
    "%autoreload 2"
   ]
  },
  {
   "cell_type": "code",
   "execution_count": null,
   "metadata": {
    "scrolled": true
   },
   "outputs": [],
   "source": [
    "config = readConfig('./configs/TestMaelstrom.cfg', globals(), locals())\n",
    "for key in config:\n",
    "    print(key)\n",
    "    print(config[key])"
   ]
  },
  {
   "cell_type": "code",
   "execution_count": null,
   "metadata": {
    "scrolled": true
   },
   "outputs": [],
   "source": [
    "maelstrom = Maelstrom(**config['MAELSTROM'], **config)"
   ]
  },
  {
   "cell_type": "code",
   "execution_count": null,
   "metadata": {
    "scrolled": true
   },
   "outputs": [],
   "source": [
    "maelstrom = maelstrom.run()"
   ]
  },
  {
   "cell_type": "code",
   "execution_count": null,
   "metadata": {},
   "outputs": [],
   "source": [
    "# print(maelstrom.islands['1'].log)\n",
    "def plotMaelstrom(logs):\n",
    "#     keys = list(maelstrom.islands.keys())\n",
    "    islands = len(logs)\n",
    "    island = 1\n",
    "    for key, log in logs.items():\n",
    "        plt.subplot(islands, 1, island)\n",
    "        island += 1\n",
    "#         key = keys[island]\n",
    "        evals = log['evals']\n",
    "        bestPred = log['bestPred']\n",
    "        avgPred = log['avgPred']\n",
    "        bestPrey = log['bestPrey']\n",
    "        avgPrey = log['avgPrey']\n",
    "        plt.plot(evals, bestPred, color = \"red\", label = \"Predator best\")\n",
    "        plt.plot(evals, avgPred, color = \"brown\", label = \"Predator average\")\n",
    "        plt.plot(evals, bestPrey, color = \"blue\", label = \"Prey best\")\n",
    "        plt.plot(evals, avgPrey, color = \"cyan\", label = \"Prey average\")\n",
    "        plt.ylabel(key)\n",
    "        plt.xlabel(\"evaluations\")\n",
    "        plt.legend()\n",
    "        plt.ylim(bottom=0, top=201)\n",
    "        plt.xlim(left=0, right = evals[-1])\n",
    "\n",
    "    plt.show()\n",
    "plotMaelstrom(maelstrom.log)"
   ]
  },
  {
   "cell_type": "code",
   "execution_count": null,
   "metadata": {},
   "outputs": [],
   "source": [
    "print(maelstrom.champions)\n",
    "champions = dict()\n",
    "for species, population in maelstrom.champions.items():\n",
    "    champions[species] = [gene for key, gene in population.items()]\n",
    "print(champions)"
   ]
  },
  {
   "cell_type": "code",
   "execution_count": null,
   "metadata": {},
   "outputs": [],
   "source": [
    "del maelstrom"
   ]
  },
  {
   "cell_type": "code",
   "execution_count": null,
   "metadata": {},
   "outputs": [],
   "source": []
  }
 ],
 "metadata": {
  "kernelspec": {
   "display_name": "Python 3 (ipykernel)",
   "language": "python",
   "name": "python3"
  },
  "language_info": {
   "codemirror_mode": {
    "name": "ipython",
    "version": 3
   },
   "file_extension": ".py",
   "mimetype": "text/x-python",
   "name": "python",
   "nbconvert_exporter": "python",
   "pygments_lexer": "ipython3",
   "version": "3.8.12"
  }
 },
 "nbformat": 4,
 "nbformat_minor": 4
}
