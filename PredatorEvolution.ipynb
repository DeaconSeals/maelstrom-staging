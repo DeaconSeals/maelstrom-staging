{
 "cells": [
  {
   "cell_type": "code",
   "execution_count": null,
   "metadata": {},
   "outputs": [],
   "source": [
    "from population import GeneticProgrammingPopulation\n",
    "from primitives import *\n",
    "from competition import *\n",
    "from snake_eyes.snakeeyes import readConfig\n",
    "\n",
    "import matplotlib.pyplot as plt\n",
    "\n",
    "# This is a bit of magic to make matplotlib figures appear inline in the notebook\n",
    "# rather than in a new window.\n",
    "%matplotlib inline\n",
    "plt.rcParams['figure.figsize'] = (10.0, 8.0) # set default size of plots\n",
    "plt.rcParams['image.interpolation'] = 'nearest'\n",
    "plt.rcParams['image.cmap'] = 'gray'\n",
    "\n",
    "# Some more magic so that the notebook will reload external python modules;\n",
    "# see http://stackoverflow.com/questions/1907993/autoreload-of-modules-in-ipython\n",
    "%load_ext autoreload\n",
    "%autoreload 2"
   ]
  },
  {
   "cell_type": "code",
   "execution_count": null,
   "metadata": {},
   "outputs": [],
   "source": [
    "config = readConfig('./configs/TestTraditional.cfg', globals(), locals())\n",
    "for key in config:\n",
    "    print(key)\n",
    "    print(config[key])\n",
    "# print(config)\n",
    "# print(config['predators'])"
   ]
  },
  {
   "cell_type": "code",
   "execution_count": null,
   "metadata": {},
   "outputs": [],
   "source": [
    "predatorPop = GeneticProgrammingPopulation(**config['predators'])"
   ]
  },
  {
   "cell_type": "code",
   "execution_count": null,
   "metadata": {},
   "outputs": [],
   "source": [
    "predatorPop.rampedHalfAndHalf()\n",
    "# print(len(predatorPop.population))"
   ]
  },
  {
   "cell_type": "code",
   "execution_count": null,
   "metadata": {},
   "outputs": [],
   "source": [
    "for predator in predatorPop.population:\n",
    "    predator.fitness, _, _, _ = evaluate(predator=predator.genotype)\n",
    "print([ind.fitness for ind in predatorPop.population])"
   ]
  },
  {
   "cell_type": "code",
   "execution_count": null,
   "metadata": {},
   "outputs": [],
   "source": [
    "# len(predatorPop.selectParents())"
   ]
  },
  {
   "cell_type": "code",
   "execution_count": null,
   "metadata": {},
   "outputs": [],
   "source": [
    "predatorPop.generateChildren()\n",
    "print(len(predatorPop.population))\n",
    "for predator in predatorPop.population:\n",
    "    predator.fitness, _, _, _ = evaluate(predator=predator.genotype)\n",
    "print([ind.fitness for ind in predatorPop.population])"
   ]
  },
  {
   "cell_type": "code",
   "execution_count": null,
   "metadata": {},
   "outputs": [],
   "source": [
    "predatorPop.selectSurvivors()\n",
    "print(len(predatorPop.population))"
   ]
  },
  {
   "cell_type": "code",
   "execution_count": null,
   "metadata": {},
   "outputs": [],
   "source": [
    "penalty = 0.1\n",
    "evolution = GeneticProgrammingPopulation(**config['predators'])\n",
    "evolution.rampedHalfAndHalf()\n",
    "for predator in evolution.population:\n",
    "    fitness, _, _, _ = evaluate(predator=predator.genotype)\n",
    "    predator.fitness = fitness-penalty*predator.genotype.size\n",
    "\n",
    "generation = 0\n",
    "while generation < 20:\n",
    "    evolution.generateChildren()\n",
    "    for predator in evolution.population:\n",
    "        fitness, _, _, _ = evaluate(predator=predator.genotype)\n",
    "        predator.fitness = fitness-penalty*predator.genotype.size\n",
    "    print(f'generation: {generation}\\tbest: {max([ind.fitness for ind in evolution.population])}\\tmean: {sum([ind.fitness for ind in evolution.population])/len(evolution.population)}')\n",
    "    evolution.selectSurvivors()\n",
    "    generation += 1"
   ]
  },
  {
   "cell_type": "code",
   "execution_count": null,
   "metadata": {},
   "outputs": [],
   "source": [
    "best = max([ind.fitness for ind in evolution.population])\n",
    "champions = [ind.genotype.printTree() for ind in evolution.population if ind.fitness == best]\n",
    "champions = list(set(champions))\n",
    "for i in range(len(champions)):\n",
    "    print(champions[i])"
   ]
  },
  {
   "cell_type": "code",
   "execution_count": null,
   "metadata": {},
   "outputs": [],
   "source": []
  }
 ],
 "metadata": {
  "kernelspec": {
   "display_name": "Python 3 (ipykernel)",
   "language": "python",
   "name": "python3"
  },
  "language_info": {
   "codemirror_mode": {
    "name": "ipython",
    "version": 3
   },
   "file_extension": ".py",
   "mimetype": "text/x-python",
   "name": "python",
   "nbconvert_exporter": "python",
   "pygments_lexer": "ipython3",
   "version": "3.8.12"
  }
 },
 "nbformat": 4,
 "nbformat_minor": 4
}
