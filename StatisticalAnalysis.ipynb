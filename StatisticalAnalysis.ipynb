{
 "cells": [
  {
   "cell_type": "code",
   "execution_count": null,
   "id": "8877bfd4",
   "metadata": {},
   "outputs": [],
   "source": [
    "import json\n",
    "from statistics import mean, stdev\n",
    "import matplotlib.pyplot as plt\n",
    "import matplotlib as mpl\n",
    "\n",
    "%matplotlib inline\n",
    "plt.rcParams['figure.figsize'] = (6.0, 6.0) # set default size of plots"
   ]
  },
  {
   "cell_type": "code",
   "execution_count": null,
   "id": "e1c04171",
   "metadata": {
    "scrolled": true
   },
   "outputs": [],
   "source": [
    "with open('results/2022-04-22-18-59-28/finalData.json') as file:\n",
    "    data = json.load(file)\n",
    "generationalLabels = [label for label in data if 'generational' in label.casefold()]\n",
    "generationalLabels = [label for label in generationalLabels if 'maelstrom' not in label.casefold()] + [label for label in generationalLabels if 'maelstrom' in label.casefold()]\n",
    "steadystateLabels = [label for label in data if 'generational' not in label.casefold() and '/constraintRelaxation/' not in label]\n",
    "steadystateLabels = [label for label in steadystateLabels if 'maelstrom' not in label.casefold()] + [label for label in steadystateLabels if 'maelstrom' in label.casefold()]\n",
    "labels = generationalLabels + steadystateLabels\n",
    "# labels = [label.replace('//','/')]\n",
    "# labels = [label for label in data if 'constraintRelaxation5Samples' in label or 'round2' in label or 'round3' in label] + [label for label in data if 'maelstromLowSampleLowPeriodBestMigrants' in label or 'maelstromLowPeriodLowSample' in label]# + [label for label in data if 'steadystateLowSampleNoHoF' in label or 'steadystateNoHoF' in label] + [label for label in data if 'generational100_200' in label] + [label for label in data if 'maelstromGenerational' in label]\n",
    "for label in labels:\n",
    "    print(label)\n",
    "# print(data['./logs/fasterPredators/traditional/2022-01-27-09-13/champions.json'])\n",
    "data = {''.join(label.replace('//','/').lstrip('./').split('/')[3]):data[label] for label in labels}"
   ]
  },
  {
   "cell_type": "code",
   "execution_count": null,
   "id": "ae3c6ffc",
   "metadata": {
    "scrolled": false
   },
   "outputs": [],
   "source": [
    "# print(data)\n",
    "for species in ['predators', 'prey']:\n",
    "    print(f'{\"-\"*10}{species}{\"-\"*10}')\n",
    "    for experiment, experimentData in data.items():\n",
    "        print(f'{experiment}\\tmean: {round(mean(experimentData[species]),2)}\\tstd dev: {round(stdev(experimentData[species]),2)}')\n",
    "    print('')\n",
    "for experiment, experimentData in data.items():\n",
    "    print(experiment.replace(\"_\", \"\\\\_\"), end='')\n",
    "    for species in ['predators', 'prey']:\n",
    "        print(f' & {round(mean(experimentData[species]),2)} & {round(stdev(experimentData[species]),2)}', end='')\n",
    "    print(' \\\\\\\\')\n",
    "        "
   ]
  },
  {
   "cell_type": "code",
   "execution_count": null,
   "id": "9741e5bf",
   "metadata": {
    "scrolled": false
   },
   "outputs": [],
   "source": [
    "plt.rcParams['figure.figsize'] = (12.0, 12.0)\n",
    "mpl.rcParams['pdf.fonttype'] = 42\n",
    "mpl.rcParams['ps.fonttype'] = 42\n",
    "predData = [experimentData['predators'] for _, experimentData in data.items()]\n",
    "fig, ax = plt.subplots()\n",
    "boxplot = ax.boxplot(predData, labels=[label for label in data])#, vert=False)\n",
    "ax.set_title('Predator Performance')\n",
    "ax.set_xlabel('Estimated Global Fitness')\n",
    "plt.xticks(rotation=45, ha='right')\n",
    "# plt.xlim(left=0, right=200)\n",
    "plt.subplots_adjust(bottom=0.3)\n",
    "# plt.ylim(bottom=0)\n",
    "plt.savefig('prettypredatorResults.png', format='png')\n",
    "plt.show()\n",
    "# print(len(predData))\n",
    "# [print(key, [list(dat.get_data()[1]) for dat in val]) for key, val in boxplot.items()]\n",
    "labels=[label for label in data]\n",
    "print('\\\\begin{tikzpicture}')\n",
    "print('\\\\begin{axis}[',f'\\nytick={[i+1 for i in range(len(predData))]},'.replace('[','{').replace(']','}'), f'\\nyticklabels={labels}'.replace('[','{').replace(']','}').replace(\"'\", \"\").replace('_','\\\\_'),'\\n]')\n",
    "for i, label in enumerate(labels):\n",
    "#     print(i, label)\n",
    "    print('\\\\addplot+ [% ',label,':\\n boxplot prepared={')\n",
    "    print('lower whisker=',boxplot['caps'][i*2].get_data()[1][1],',')\n",
    "    print('upper whisker=',boxplot['caps'][1+(i*2)].get_data()[1][1],',')\n",
    "    print('lower quartile=',boxplot['boxes'][i].get_data()[1][0],',')\n",
    "    print('upper quartile=',boxplot['boxes'][i].get_data()[1][2],',')\n",
    "    print('median=',boxplot['medians'][i].get_data()[1][1], '},')\n",
    "    outliers = [f'(0,{val}) ' for val in boxplot['fliers'][i].get_data()[1]]\n",
    "    print(']','coordinates{',''.join(outliers),'};')\n",
    "print('\\\\end{axis}')\n",
    "print('\\\\end{tikzpicture}')"
   ]
  },
  {
   "cell_type": "code",
   "execution_count": null,
   "id": "e6f6e588",
   "metadata": {},
   "outputs": [],
   "source": [
    "plt.rcParams['figure.figsize'] = (6.0, 6.0)\n",
    "mpl.rcParams['pdf.fonttype'] = 42\n",
    "mpl.rcParams['ps.fonttype'] = 42\n",
    "predData = [experimentData['predators'] for _, experimentData in data.items()]\n",
    "fig, ax = plt.subplots()\n",
    "ax.boxplot(predData, labels=[label for label in data], vert=False)\n",
    "ax.set_title('Predator Performance')\n",
    "ax.set_xlabel('Estimated Global Fitness')\n",
    "# plt.xticks(rotation=45, ha='right')\n",
    "plt.xlim(left=0, right=200)\n",
    "plt.subplots_adjust(left=0.55)\n",
    "plt.savefig('predatorResults.pdf', format='pdf')\n",
    "plt.show()"
   ]
  },
  {
   "cell_type": "code",
   "execution_count": null,
   "id": "4ffc2a21",
   "metadata": {
    "scrolled": false
   },
   "outputs": [],
   "source": [
    "plt.rcParams['figure.figsize'] = (12.0, 12.0)\n",
    "mpl.rcParams['pdf.fonttype'] = 42\n",
    "mpl.rcParams['ps.fonttype'] = 42\n",
    "preyData = [experimentData['prey'] for _, experimentData in data.items()]\n",
    "fig, ax = plt.subplots()\n",
    "ax.boxplot(preyData, labels=[label for label in data])#, vert=False)\n",
    "ax.set_title('Prey Performance')\n",
    "ax.set_xlabel('Estimated Global Fitness')\n",
    "plt.xticks(rotation=45, ha='right')\n",
    "# plt.xlim(left=0, right=201)\n",
    "# plt.subplots_adjust(left=0.55)\n",
    "plt.subplots_adjust(bottom=0.3)\n",
    "# plt.ylim(top=201, bottom=0)\n",
    "plt.savefig('prettypreyResults.png', format='png')\n",
    "plt.show()"
   ]
  },
  {
   "cell_type": "code",
   "execution_count": null,
   "id": "c19e4ee4",
   "metadata": {},
   "outputs": [],
   "source": [
    "plt.rcParams['figure.figsize'] = (6.0, 6.0)\n",
    "mpl.rcParams['pdf.fonttype'] = 42\n",
    "mpl.rcParams['ps.fonttype'] = 42\n",
    "preyData = [experimentData['prey'] for _, experimentData in data.items()]\n",
    "fig, ax = plt.subplots()\n",
    "ax.boxplot(preyData, labels=[label for label in data], vert=False)\n",
    "ax.set_title('Prey Performance')\n",
    "ax.set_xlabel('Estimated Global Fitness')\n",
    "# plt.xticks(rotation=45, ha='right')\n",
    "plt.xlim(left=0, right=201)\n",
    "plt.subplots_adjust(left=0.55)\n",
    "plt.savefig('preyResults.pdf', format='pdf')\n",
    "plt.show()"
   ]
  },
  {
   "cell_type": "code",
   "execution_count": null,
   "id": "cf1f15d0",
   "metadata": {},
   "outputs": [],
   "source": []
  },
  {
   "cell_type": "code",
   "execution_count": null,
   "id": "09939a99",
   "metadata": {},
   "outputs": [],
   "source": []
  }
 ],
 "metadata": {
  "kernelspec": {
   "display_name": "Python 3 (ipykernel)",
   "language": "python",
   "name": "python3"
  },
  "language_info": {
   "codemirror_mode": {
    "name": "ipython",
    "version": 3
   },
   "file_extension": ".py",
   "mimetype": "text/x-python",
   "name": "python",
   "nbconvert_exporter": "python",
   "pygments_lexer": "ipython3",
   "version": "3.8.12"
  }
 },
 "nbformat": 4,
 "nbformat_minor": 5
}
