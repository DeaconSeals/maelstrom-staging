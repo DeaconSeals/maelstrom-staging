{
 "cells": [
  {
   "cell_type": "code",
   "execution_count": null,
   "id": "fb922658",
   "metadata": {},
   "outputs": [],
   "source": [
    "from primitives import *\n",
    "from findChampions import localTournaments\n",
    "\n",
    "%load_ext autoreload\n",
    "%autoreload 2"
   ]
  },
  {
   "cell_type": "code",
   "execution_count": null,
   "id": "8ffebb39",
   "metadata": {},
   "outputs": [],
   "source": [
    "localTournaments('./logs/debug/nurseryMaelstrom/', 5)\n",
    "# with open('./logs/debug/nurseryMaelstrom/competitors.json') as file:\n",
    "#     experimentCompetitors = json.load(file)\n",
    "# for run, competitors in enumerate(experimentCompetitors):\n",
    "#     for species, population in competitors.items():\n",
    "#         experimentCompetitors[run][species] = [GeneticTree.fromDict(dictionary) for dictionary in population]\n",
    "#         print(f'run {run} {species} {len(population)}')\n",
    "# # print(experimentCompetitors)"
   ]
  },
  {
   "cell_type": "code",
   "execution_count": null,
   "id": "9d5442b2",
   "metadata": {},
   "outputs": [],
   "source": [
    "# world_kwargs = {\"predator_move_speed\": 0.06, \"prey_move_speed\": 0.10, \"agent_radius\": 0.10, \"time_limit\":200}\n",
    "# results = list()\n",
    "# for run, competitors in tenumerate(experimentCompetitors):\n",
    "#      results.append(postHocRoundRobin(**competitors, world_kwargs = world_kwargs))#, cache=cache))"
   ]
  },
  {
   "cell_type": "code",
   "execution_count": null,
   "id": "42607b76",
   "metadata": {
    "scrolled": true
   },
   "outputs": [],
   "source": [
    "# # print(results)\n",
    "# import statistics\n",
    "# for run, competitors in enumerate(results):\n",
    "#     for species, scores in competitors.items():\n",
    "#         for idx, individualResults in enumerate(scores):\n",
    "#             print(f'run {run} {species} {idx}: {statistics.mean(individualResults)}, {statistics.stdev(individualResults)}')"
   ]
  },
  {
   "cell_type": "code",
   "execution_count": null,
   "id": "1453af1e",
   "metadata": {},
   "outputs": [],
   "source": [
    "+"
   ]
  }
 ],
 "metadata": {
  "kernelspec": {
   "display_name": "Python 3 (ipykernel)",
   "language": "python",
   "name": "python3"
  },
  "language_info": {
   "codemirror_mode": {
    "name": "ipython",
    "version": 3
   },
   "file_extension": ".py",
   "mimetype": "text/x-python",
   "name": "python",
   "nbconvert_exporter": "python",
   "pygments_lexer": "ipython3",
   "version": "3.8.10"
  }
 },
 "nbformat": 4,
 "nbformat_minor": 5
}
