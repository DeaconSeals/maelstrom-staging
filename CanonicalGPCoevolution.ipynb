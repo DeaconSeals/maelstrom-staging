{
 "cells": [
  {
   "cell_type": "code",
   "execution_count": null,
   "id": "113e3894",
   "metadata": {},
   "outputs": [],
   "source": [
    "from canonicalPopulation import CanonicalGeneticProgrammingPopulation\n",
    "from primitives import *\n",
    "from competition import *\n",
    "from snake_eyes.snakeeyes import readConfig\n",
    "from unorderedWrapper import unorderedWrapper\n",
    "\n",
    "# Some more magic so that the notebook will reload external python modules;\n",
    "# see http://stackoverflow.com/questions/1907993/autoreload-of-modules-in-ipython\n",
    "%load_ext autoreload\n",
    "%autoreload 2"
   ]
  },
  {
   "cell_type": "code",
   "execution_count": null,
   "id": "356ad6f0",
   "metadata": {},
   "outputs": [],
   "source": [
    "config = readConfig('./configs/TestTraditional.cfg', globals(), locals())\n",
    "for key in config:\n",
    "    print(key)\n",
    "    print(config[key])\n",
    "world_kwargs=config['ISLAND']['evaluationkwargs']['world_kwargs']\n",
    "predPop = CanonicalGeneticProgrammingPopulation(**config['predators'])\n",
    "predPop.rampedHalfAndHalf()\n",
    "preyPop = CanonicalGeneticProgrammingPopulation(**config['prey'])\n",
    "preyPop.rampedHalfAndHalf()\n",
    "evals = 0\n",
    "generation = 0\n",
    "while evals < config['GENERAL']['evaluations']:\n",
    "    log, round_evals = sampleEvaluations(predPop, preyPop, **config['ISLAND']['evaluationkwargs'])\n",
    "    evals += round_evals\n",
    "    predPop.generateChildren()\n",
    "    preyPop.generateChildren()\n",
    "    print(log)\n",
    "    generation += 1"
   ]
  },
  {
   "cell_type": "code",
   "execution_count": null,
   "id": "dc2781c8",
   "metadata": {},
   "outputs": [],
   "source": []
  }
 ],
 "metadata": {
  "kernelspec": {
   "display_name": "Python 3 (ipykernel)",
   "language": "python",
   "name": "python3"
  },
  "language_info": {
   "codemirror_mode": {
    "name": "ipython",
    "version": 3
   },
   "file_extension": ".py",
   "mimetype": "text/x-python",
   "name": "python",
   "nbconvert_exporter": "python",
   "pygments_lexer": "ipython3",
   "version": "3.8.12"
  }
 },
 "nbformat": 4,
 "nbformat_minor": 5
}
