{
 "cells": [
  {
   "cell_type": "code",
   "execution_count": null,
   "metadata": {
    "scrolled": true
   },
   "outputs": [],
   "source": [
    "from island import GeneticProgrammingIsland\n",
    "from primitives import *\n",
    "from competition import *\n",
    "from snake_eyes.snakeeyes import readConfig\n",
    "\n",
    "import matplotlib.pyplot as plt\n",
    "import json\n",
    "\n",
    "# This is a bit of magic to make matplotlib figures appear inline in the notebook\n",
    "# rather than in a new window.\n",
    "%matplotlib inline\n",
    "plt.rcParams['figure.figsize'] = (10.0, 8.0) # set default size of plots\n",
    "plt.rcParams['image.interpolation'] = 'nearest'\n",
    "plt.rcParams['image.cmap'] = 'gray'\n",
    "\n",
    "# Some more magic so that the notebook will reload external python modules;\n",
    "# see http://stackoverflow.com/questions/1907993/autoreload-of-modules-in-ipython\n",
    "%load_ext autoreload\n",
    "%autoreload 2"
   ]
  },
  {
   "cell_type": "code",
   "execution_count": null,
   "metadata": {},
   "outputs": [],
   "source": [
    "config = readConfig('./configs/TestTraditional.cfg', globals(), locals())\n",
    "for key in config:\n",
    "    print(key)\n",
    "    print(config[key])"
   ]
  },
  {
   "cell_type": "code",
   "execution_count": null,
   "metadata": {},
   "outputs": [],
   "source": [
    "island = GeneticProgrammingIsland(**config['ISLAND'], **config)"
   ]
  },
  {
   "cell_type": "code",
   "execution_count": null,
   "metadata": {},
   "outputs": [],
   "source": [
    "for population in island.populations:\n",
    "    print(population)\n",
    "    print([ind.fitness for ind in island.populations[population].population])\n",
    "# preyPop.rampedHalfAndHalf()\n",
    "# print(len(preyPop.population))"
   ]
  },
  {
   "cell_type": "code",
   "execution_count": null,
   "metadata": {},
   "outputs": [],
   "source": [
    "island.generation()\n",
    "for population in island.populations:\n",
    "    print(population)\n",
    "    print([ind.fitness for ind in island.populations[population].population])\n",
    "# for prey in preyPop.population:\n",
    "#     _, prey.fitness, _, _, _ = evaluate(prey=prey.genotype)\n",
    "# print([ind.fitness for ind in preyPop.population])"
   ]
  },
  {
   "cell_type": "code",
   "execution_count": null,
   "metadata": {},
   "outputs": [],
   "source": [
    "generation = 0\n",
    "island = GeneticProgrammingIsland(**config['ISLAND'], **config)\n",
    "print(f'Generation {generation}', end='\\t')\n",
    "for key in island.log:\n",
    "    if 'Abs' not in key:\n",
    "        print(f'{key}: {island.log[key][-1]}', end='\\t')\n",
    "print('')\n",
    "\n",
    "while generation < 10:\n",
    "    island.generation()\n",
    "    generation += 1\n",
    "    print(f'Generation {generation}', end='\\t')\n",
    "    for key in island.log:\n",
    "        if 'Abs' not in key:\n",
    "            print(f'{key}: {island.log[key][-1]}', end='\\t')\n",
    "    print('')\n",
    "\n",
    "evals = island.log['evals']\n",
    "bestPred = island.log['bestPred']\n",
    "avgPred = island.log['avgPred']\n",
    "bestPrey = island.log['bestPrey']\n",
    "avgPrey = island.log['avgPrey']\n",
    "plt.plot(evals, bestPred, color = \"red\", label = \"Predator best\")\n",
    "plt.plot(evals, avgPred, color = \"brown\", label = \"Predator average\")\n",
    "plt.plot(evals, bestPrey, color = \"blue\", label = \"Prey best\")\n",
    "plt.plot(evals, avgPrey, color = \"cyan\", label = \"Prey average\")\n",
    "plt.ylabel(key)\n",
    "plt.xlabel(\"evaluations\")\n",
    "plt.legend()\n",
    "plt.ylim(bottom=0, top=201)\n",
    "plt.xlim(left=0, right = evals[-1])\n",
    "\n",
    "plt.show()"
   ]
  },
  {
   "cell_type": "code",
   "execution_count": null,
   "metadata": {},
   "outputs": [],
   "source": [
    "island = GeneticProgrammingIsland(**config['ISLAND'], **config)\n",
    "print('start', end='\\t')\n",
    "for key in island.log:\n",
    "    if 'Abs' not in key:\n",
    "        print(f'{key}: {island.log[key][-1]}', end='\\t')\n",
    "print('')\n",
    "island.run()\n",
    "print('finish', end='\\t')\n",
    "for key in island.log:\n",
    "    if 'Abs' not in key:\n",
    "        print(f'{key}: {island.log[key][-1]}', end='\\t')\n",
    "print('')"
   ]
  },
  {
   "cell_type": "code",
   "execution_count": null,
   "metadata": {},
   "outputs": [],
   "source": [
    "json.dumps(island.log)"
   ]
  },
  {
   "cell_type": "code",
   "execution_count": null,
   "metadata": {},
   "outputs": [],
   "source": [
    "print(island.champions)"
   ]
  },
  {
   "cell_type": "code",
   "execution_count": null,
   "metadata": {},
   "outputs": [],
   "source": []
  }
 ],
 "metadata": {
  "kernelspec": {
   "display_name": "Python 3 (ipykernel)",
   "language": "python",
   "name": "python3"
  },
  "language_info": {
   "codemirror_mode": {
    "name": "ipython",
    "version": 3
   },
   "file_extension": ".py",
   "mimetype": "text/x-python",
   "name": "python",
   "nbconvert_exporter": "python",
   "pygments_lexer": "ipython3",
   "version": "3.8.12"
  }
 },
 "nbformat": 4,
 "nbformat_minor": 4
}
